{
 "cells": [
  {
   "cell_type": "code",
   "execution_count": null,
   "metadata": {},
   "outputs": [],
   "source": [
    "import pandas as pd\n",
    "import numpy as np\n",
    "import seaborn as sns \n",
    "import scipy as stats"
   ]
  },
  {
   "cell_type": "code",
   "execution_count": null,
   "metadata": {},
   "outputs": [],
   "source": [
    "df_cities=pd.read_csv(r\"D:\\cb\\cb food\\Dataset\\dim_cities.csv\")\n",
    "df_cities"
   ]
  },
  {
   "cell_type": "code",
   "execution_count": null,
   "metadata": {},
   "outputs": [],
   "source": [
    "df_respondants=pd.read_csv(r\"D:\\cb\\cb food\\Dataset\\dim_repondents.csv\")\n",
    "df_respondants.head()"
   ]
  },
  {
   "cell_type": "code",
   "execution_count": null,
   "metadata": {},
   "outputs": [],
   "source": [
    "pd.set_option(\"display.max_columns\",None)\n",
    "df_response=pd.read_csv(r\"D:\\cb\\cb food\\Dataset\\fact_survey_responses.csv\")\n",
    "df_response.head()"
   ]
  },
  {
   "cell_type": "code",
   "execution_count": null,
   "metadata": {},
   "outputs": [],
   "source": [
    "# who prefers energy drink more ?\n",
    "#combine 2 dataframes on a common column \n",
    "df_final=pd.merge(df_response,df_respondants,on='Respondent_ID')\n",
    "df_final.head()\n"
   ]
  },
  {
   "cell_type": "code",
   "execution_count": null,
   "metadata": {},
   "outputs": [],
   "source": [
    "#final dataframe with all the values \n",
    "df=pd.merge(df_final,df_cities,on='City_ID')\n",
    "df.head()\n"
   ]
  },
  {
   "cell_type": "code",
   "execution_count": null,
   "metadata": {},
   "outputs": [],
   "source": [
    "df.to_csv(\"food_data_final.csv\",index=False)"
   ]
  },
  {
   "cell_type": "code",
   "execution_count": null,
   "metadata": {},
   "outputs": [],
   "source": [
    "import os\n",
    "\n",
    "os.getcwd()"
   ]
  },
  {
   "cell_type": "markdown",
   "metadata": {},
   "source": [
    "###OBSERVATION\n",
    "\n",
    "1. checking the null records \n",
    "   df.isnull().sum()  ----> ZERO NULL RECORDS FOUND \n",
    "\n",
    "2. Numerical variables: response_id, respondent_id, taste_experience in range (1-5)\n",
    "\n",
    "3. categorical variables: 29-3 = 26 columns "
   ]
  },
  {
   "cell_type": "code",
   "execution_count": null,
   "metadata": {},
   "outputs": [],
   "source": [
    "# a. who prefers energy drink more ?\n",
    "df[['Gender','Response_ID']].groupby('Gender').count()\n",
    "\n",
    "## Shows Male consumption of energy drinks is high "
   ]
  },
  {
   "cell_type": "code",
   "execution_count": null,
   "metadata": {},
   "outputs": [],
   "source": [
    "# b. Which age group prefers energy drinks more?\n",
    "df[['Age','Response_ID']].groupby('Age').count()\n",
    "\n",
    "## shows 19-30 age group consumption is high \n"
   ]
  },
  {
   "cell_type": "code",
   "execution_count": null,
   "metadata": {},
   "outputs": [],
   "source": [
    "# c. Which type of marketing reaches the most Youth (15-30)?\n",
    "df[['Age','Marketing_channels']].groupby(['Age','Marketing_channels']).value_counts()\n",
    "\n",
    "## solution: Online ads reach the particular group the most "
   ]
  },
  {
   "cell_type": "code",
   "execution_count": null,
   "metadata": {},
   "outputs": [],
   "source": [
    "df.columns"
   ]
  },
  {
   "cell_type": "code",
   "execution_count": 3,
   "metadata": {},
   "outputs": [
    {
     "data": {
      "text/plain": [
       "(10000, 29)"
      ]
     },
     "execution_count": 3,
     "metadata": {},
     "output_type": "execute_result"
    }
   ],
   "source": [
    "# restarted the file so loading the data again\n",
    "df=pd.read_csv(r\"D:\\cb\\cb food\\food_data_final.csv\")\n",
    "df.shape"
   ]
  },
  {
   "cell_type": "code",
   "execution_count": 4,
   "metadata": {},
   "outputs": [
    {
     "data": {
      "text/plain": [
       "Ingredients_expected\n",
       "Caffeine                3896\n",
       "Vitamins                2534\n",
       "Sugar                   2017\n",
       "Guarana                 1553\n",
       "dtype: int64"
      ]
     },
     "execution_count": 4,
     "metadata": {},
     "output_type": "execute_result"
    }
   ],
   "source": [
    "## a. What are the preferred ingredients of energy drinks among respondent\n",
    "df[['Ingredients_expected']].value_counts()"
   ]
  },
  {
   "cell_type": "code",
   "execution_count": 5,
   "metadata": {},
   "outputs": [
    {
     "data": {
      "text/plain": [
       "array(['Compact and portable cans', 'Eco-friendly design',\n",
       "       'Innovative bottle design', 'Other', 'Collectible packaging'],\n",
       "      dtype=object)"
      ]
     },
     "execution_count": 5,
     "metadata": {},
     "output_type": "execute_result"
    }
   ],
   "source": [
    "#b. What packaging preferences do respondents have for energy drinks?\n",
    "df['Packaging_preference'].unique()"
   ]
  },
  {
   "cell_type": "code",
   "execution_count": 6,
   "metadata": {},
   "outputs": [
    {
     "data": {
      "text/plain": [
       "Cola-Coka    2538\n",
       "Bepsi        2112\n",
       "Gangster     1854\n",
       "Blue Bull    1058\n",
       "CodeX         980\n",
       "Sky 9         979\n",
       "Others        479\n",
       "Name: Current_brands, dtype: int64"
      ]
     },
     "execution_count": 6,
     "metadata": {},
     "output_type": "execute_result"
    }
   ],
   "source": [
    "#a. Who are the current market leaders?\n",
    "df['Current_brands'].value_counts(ascending=False)"
   ]
  },
  {
   "cell_type": "code",
   "execution_count": 7,
   "metadata": {},
   "outputs": [
    {
     "data": {
      "text/plain": [
       "Reasons_for_choosing_brands  Consume_reason                 Reasons_preventing_trying      \n",
       "Brand reputation             Increased energy and focus     Not interested in energy drinks    229\n",
       "                                                            Not available locally              222\n",
       "                                                            Health concerns                    218\n",
       "Taste/flavor preference      Increased energy and focus     Not available locally              188\n",
       "Brand reputation             Increased energy and focus     Unfamiliar with the brand          182\n",
       "                                                                                              ... \n",
       "Availability                 Other                          Unfamiliar with the brand           25\n",
       "Effectiveness                Other                          Other                               20\n",
       "Other                        To enhance sports performance  Other                               19\n",
       "Taste/flavor preference      Other                          Other                               18\n",
       "Availability                 Other                          Other                               16\n",
       "Length: 125, dtype: int64"
      ]
     },
     "execution_count": 7,
     "metadata": {},
     "output_type": "execute_result"
    }
   ],
   "source": [
    "#b. What are the primary reasons consumers prefer those brands over ours?\n",
    "df[['Reasons_for_choosing_brands','Consume_reason','Reasons_preventing_trying']].value_counts()"
   ]
  },
  {
   "cell_type": "code",
   "execution_count": 8,
   "metadata": {},
   "outputs": [
    {
     "data": {
      "text/plain": [
       "Marketing_channels  City       Tier    Gender      Age  \n",
       "Online ads          Bangalore  Tier 1  Male        19-30    546\n",
       "                    Hyderabad  Tier 1  Male        19-30    328\n",
       "                    Bangalore  Tier 1  Female      19-30    302\n",
       "                    Hyderabad  Tier 1  Female      19-30    226\n",
       "TV commercials      Mumbai     Tier 1  Male        19-30    219\n",
       "Online ads          Chennai    Tier 1  Male        19-30    168\n",
       "                    Mumbai     Tier 1  Male        19-30    165\n",
       "Outdoor billboards  Bangalore  Tier 1  Male        19-30    139\n",
       "Online ads          Bangalore  Tier 1  Male        15-18    137\n",
       "Other               Bangalore  Tier 1  Male        19-30    136\n",
       "TV commercials      Mumbai     Tier 1  Female      19-30    134\n",
       "Online ads          Chennai    Tier 1  Female      19-30    134\n",
       "Outdoor billboards  Bangalore  Tier 1  Male        31-45    129\n",
       "TV commercials      Pune       Tier 2  Male        19-30    126\n",
       "                    Bangalore  Tier 1  Male        31-45    122\n",
       "Online ads          Pune       Tier 2  Male        19-30    113\n",
       "TV commercials      Bangalore  Tier 1  Male        19-30    112\n",
       "Online ads          Mumbai     Tier 1  Female      19-30    112\n",
       "Other               Hyderabad  Tier 1  Male        19-30    103\n",
       "Online ads          Bangalore  Tier 1  Female      15-18     96\n",
       "                    Kolkata    Tier 2  Male        19-30     96\n",
       "TV commercials      Mumbai     Tier 1  Male        31-45     95\n",
       "Other               Bangalore  Tier 1  Female      31-45     91\n",
       "TV commercials      Pune       Tier 2  Female      19-30     84\n",
       "                    Bangalore  Tier 1  Male        15-18     84\n",
       "Outdoor billboards  Hyderabad  Tier 1  Male        19-30     81\n",
       "Online ads          Hyderabad  Tier 1  Female      15-18     80\n",
       "                                       Male        15-18     77\n",
       "Other               Bangalore  Tier 1  Male        31-45     76\n",
       "Outdoor billboards  Hyderabad  Tier 1  Male        31-45     71\n",
       "Online ads          Kolkata    Tier 2  Female      19-30     70\n",
       "                    Mumbai     Tier 1  Male        31-45     69\n",
       "Other               Bangalore  Tier 1  Female      19-30     69\n",
       "Online ads          Pune       Tier 2  Female      19-30     63\n",
       "TV commercials      Pune       Tier 2  Male        31-45     62\n",
       "                    Ahmedabad  Tier 2  Male        19-30     62\n",
       "                    Delhi      Tier 1  Male        19-30     60\n",
       "                    Hyderabad  Tier 1  Male        19-30     59\n",
       "                    Mumbai     Tier 1  Male        15-18     58\n",
       "Other               Hyderabad  Tier 1  Female      19-30     58\n",
       "Print media         Bangalore  Tier 1  Male        19-30     57\n",
       "                                       Female      31-45     57\n",
       "Outdoor billboards  Mumbai     Tier 1  Male        19-30     55\n",
       "Online ads          Bangalore  Tier 1  Female      31-45     55\n",
       "Print media         Bangalore  Tier 1  Male        31-45     55\n",
       "Online ads          Jaipur     Tier 2  Male        19-30     51\n",
       "Other               Hyderabad  Tier 1  Female      31-45     51\n",
       "Print media         Hyderabad  Tier 1  Male        31-45     50\n",
       "Other               Hyderabad  Tier 1  Male        31-45     50\n",
       "Online ads          Ahmedabad  Tier 2  Male        19-30     50\n",
       "TV commercials      Hyderabad  Tier 1  Male        31-45     49\n",
       "                    Mumbai     Tier 1  Female      31-45     49\n",
       "                    Jaipur     Tier 2  Male        19-30     47\n",
       "Online ads          Mumbai     Tier 1  Male        15-18     46\n",
       "                    Delhi      Tier 1  Male        19-30     44\n",
       "                    Chennai    Tier 1  Male        15-18     44\n",
       "Print media         Bangalore  Tier 1  Female      19-30     44\n",
       "Outdoor billboards  Chennai    Tier 1  Male        19-30     42\n",
       "TV commercials      Ahmedabad  Tier 2  Female      19-30     42\n",
       "                    Pune       Tier 2  Female      31-45     41\n",
       "Online ads          Mumbai     Tier 1  Female      31-45     41\n",
       "Print media         Mumbai     Tier 1  Male        19-30     41\n",
       "                    Hyderabad  Tier 1  Male        19-30     40\n",
       "TV commercials      Chennai    Tier 1  Male        31-45     40\n",
       "Outdoor billboards  Chennai    Tier 1  Male        31-45     39\n",
       "Other               Kolkata    Tier 2  Male        19-30     38\n",
       "                    Chennai    Tier 1  Male        19-30     38\n",
       "Online ads          Pune       Tier 2  Male        31-45     38\n",
       "                    Bangalore  Tier 1  Male        31-45     38\n",
       "TV commercials      Ahmedabad  Tier 2  Male        31-45     36\n",
       "                    Chennai    Tier 1  Male        19-30     36\n",
       "                    Hyderabad  Tier 1  Male        15-18     35\n",
       "Other               Chennai    Tier 1  Female      19-30     35\n",
       "Outdoor billboards  Bangalore  Tier 1  Female      19-30     35\n",
       "TV commercials      Delhi      Tier 1  Female      19-30     34\n",
       "Online ads          Ahmedabad  Tier 2  Female      19-30     34\n",
       "TV commercials      Mumbai     Tier 1  Female      15-18     33\n",
       "Online ads          Hyderabad  Tier 1  Male        31-45     33\n",
       "TV commercials      Pune       Tier 2  Male        15-18     33\n",
       "Print media         Hyderabad  Tier 1  Female      31-45     32\n",
       "TV commercials      Bangalore  Tier 1  Female      19-30     31\n",
       "                                       Non-binary  19-30     31\n",
       "Online ads          Chennai    Tier 1  Female      15-18     30\n",
       "Outdoor billboards  Kolkata    Tier 2  Male        31-45     29\n",
       "Print media         Hyderabad  Tier 1  Female      19-30     29\n",
       "TV commercials      Chennai    Tier 1  Male        15-18     29\n",
       "Online ads          Kolkata    Tier 2  Male        15-18     29\n",
       "                    Hyderabad  Tier 1  Female      31-45     29\n",
       "                    Mumbai     Tier 1  Female      15-18     28\n",
       "TV commercials      Bangalore  Tier 1  Female      15-18     28\n",
       "Outdoor billboards  Pune       Tier 2  Male        19-30     28\n",
       "TV commercials      Lucknow    Tier 2  Male        19-30     27\n",
       "                    Jaipur     Tier 2  Male        31-45     27\n",
       "Other               Chennai    Tier 1  Female      31-45     27\n",
       "TV commercials      Jaipur     Tier 2  Female      19-30     27\n",
       "Online ads          Bangalore  Tier 1  Non-binary  19-30     27\n",
       "Outdoor billboards  Mumbai     Tier 1  Male        31-45     26\n",
       "Online ads          Jaipur     Tier 2  Female      19-30     26\n",
       "                    Pune       Tier 2  Male        15-18     26\n",
       "Other               Kolkata    Tier 2  Female      31-45     25\n",
       "Print media         Mumbai     Tier 1  Female      19-30     25\n",
       "Other               Chennai    Tier 1  Male        31-45     25\n",
       "Outdoor billboards  Kolkata    Tier 2  Male        19-30     25\n",
       "TV commercials      Delhi      Tier 1  Male        15-18     25\n",
       "                    Kolkata    Tier 2  Male        19-30     24\n",
       "Online ads          Delhi      Tier 1  Female      19-30     24\n",
       "TV commercials      Bangalore  Tier 1  Female      31-45     24\n",
       "                    Hyderabad  Tier 1  Female      19-30     24\n",
       "                    Delhi      Tier 1  Male        31-45     23\n",
       "                    Hyderabad  Tier 1  Non-binary  19-30     23\n",
       "Outdoor billboards  Mumbai     Tier 1  Female      19-30     22\n",
       "Online ads          Mumbai     Tier 1  Non-binary  19-30     21\n",
       "TV commercials      Kolkata    Tier 2  Male        31-45     21\n",
       "Outdoor billboards  Hyderabad  Tier 1  Female      31-45     21\n",
       "Online ads          Pune       Tier 2  Female      31-45     21\n",
       "TV commercials      Mumbai     Tier 1  Non-binary  19-30     21\n",
       "Online ads          Chennai    Tier 1  Male        31-45     21\n",
       "TV commercials      Jaipur     Tier 2  Male        15-18     21\n",
       "Outdoor billboards  Bangalore  Tier 1  Male        15-18     21\n",
       "                    Hyderabad  Tier 1  Female      19-30     20\n",
       "                    Bangalore  Tier 1  Female      31-45     20\n",
       "TV commercials      Ahmedabad  Tier 2  Female      31-45     20\n",
       "                    Hyderabad  Tier 1  Female      15-18     20\n",
       "Other               Bangalore  Tier 1  Male        46-65     20\n",
       "Online ads          Jaipur     Tier 2  Male        31-45     20\n",
       "TV commercials      Delhi      Tier 1  Female      31-45     19\n",
       "                    Kolkata    Tier 2  Male        15-18     19\n",
       "Print media         Chennai    Tier 1  Female      31-45     19\n",
       "Other               Mumbai     Tier 1  Male        19-30     19\n",
       "Print media         Pune       Tier 2  Male        19-30     19\n",
       "TV commercials      Bangalore  Tier 1  Male        46-65     19\n",
       "Print media         Chennai    Tier 1  Male        31-45     18\n",
       "TV commercials      Lucknow    Tier 2  Female      19-30     18\n",
       "Other               Kolkata    Tier 2  Male        31-45     18\n",
       "TV commercials      Ahmedabad  Tier 2  Male        15-18     17\n",
       "                    Pune       Tier 2  Female      15-18     17\n",
       "                    Hyderabad  Tier 1  Female      31-45     17\n",
       "Online ads          Ahmedabad  Tier 2  Male        31-45     17\n",
       "Print media         Chennai    Tier 1  Female      19-30     17\n",
       "TV commercials      Hyderabad  Tier 1  Male        46-65     17\n",
       "Online ads          Mumbai     Tier 1  Male        46-65     16\n",
       "TV commercials      Chennai    Tier 1  Non-binary  19-30     16\n",
       "Online ads          Delhi      Tier 1  Male        31-45     16\n",
       "Outdoor billboards  Mumbai     Tier 1  Male        15-18     16\n",
       "                    Bangalore  Tier 1  Male        46-65     16\n",
       "TV commercials      Mumbai     Tier 1  Male        46-65     15\n",
       "Outdoor billboards  Ahmedabad  Tier 2  Male        19-30     15\n",
       "Online ads          Lucknow    Tier 2  Male        19-30     15\n",
       "                    Hyderabad  Tier 1  Non-binary  19-30     15\n",
       "                    Delhi      Tier 1  Male        15-18     15\n",
       "Outdoor billboards  Pune       Tier 2  Female      19-30     15\n",
       "Other               Kolkata    Tier 2  Female      19-30     15\n",
       "Online ads          Lucknow    Tier 2  Female      19-30     15\n",
       "Outdoor billboards  Hyderabad  Tier 1  Male        15-18     14\n",
       "                    Delhi      Tier 1  Male        19-30     14\n",
       "Online ads          Pune       Tier 2  Female      15-18     14\n",
       "                    Kolkata    Tier 2  Female      15-18     14\n",
       "Outdoor billboards  Hyderabad  Tier 1  Male        46-65     13\n",
       "Print media         Bangalore  Tier 1  Male        46-65     13\n",
       "Other               Bangalore  Tier 1  Male        15-18     13\n",
       "                                       Female      46-65     13\n",
       "Print media         Chennai    Tier 1  Male        19-30     13\n",
       "TV commercials      Lucknow    Tier 2  Female      31-45     12\n",
       "Print media         Kolkata    Tier 2  Male        19-30     12\n",
       "TV commercials      Ahmedabad  Tier 2  Female      15-18     12\n",
       "Outdoor billboards  Delhi      Tier 1  Male        31-45     12\n",
       "Print media         Kolkata    Tier 2  Female      31-45     12\n",
       "Outdoor billboards  Pune       Tier 2  Male        31-45     12\n",
       "TV commercials      Hyderabad  Tier 1  Non-binary  31-45     12\n",
       "Other               Bangalore  Tier 1  Male        65+       12\n",
       "Print media         Hyderabad  Tier 1  Male        46-65     11\n",
       "TV commercials      Kolkata    Tier 2  Female      31-45     11\n",
       "Online ads          Delhi      Tier 1  Female      31-45     11\n",
       "                    Chennai    Tier 1  Female      31-45     11\n",
       "                    Jaipur     Tier 2  Male        15-18     11\n",
       "Other               Pune       Tier 2  Non-binary  19-30     11\n",
       "                    Mumbai     Tier 1  Female      19-30     11\n",
       "Print media         Bangalore  Tier 1  Male        15-18     11\n",
       "Other               Hyderabad  Tier 1  Male        46-65     11\n",
       "Print media         Delhi      Tier 1  Male        19-30     11\n",
       "Online ads          Ahmedabad  Tier 2  Female      31-45     11\n",
       "                    Jaipur     Tier 2  Female      31-45     10\n",
       "Other               Mumbai     Tier 1  Male        31-45     10\n",
       "                    Bangalore  Tier 1  Female      15-18     10\n",
       "TV commercials      Delhi      Tier 1  Female      15-18     10\n",
       "Outdoor billboards  Ahmedabad  Tier 2  Male        31-45     10\n",
       "                    Pune       Tier 2  Female      31-45     10\n",
       "Online ads          Ahmedabad  Tier 2  Male        15-18     10\n",
       "Outdoor billboards  Hyderabad  Tier 1  Male        65+       10\n",
       "Online ads          Mumbai     Tier 1  Female      46-65     10\n",
       "TV commercials      Chennai    Tier 1  Female      15-18     10\n",
       "Print media         Kolkata    Tier 2  Male        31-45     10\n",
       "Outdoor billboards  Chennai    Tier 1  Male        15-18      9\n",
       "TV commercials      Bangalore  Tier 1  Non-binary  15-18      9\n",
       "Print media         Bangalore  Tier 1  Female      46-65      9\n",
       "Online ads          Jaipur     Tier 2  Female      15-18      9\n",
       "TV commercials      Bangalore  Tier 1  Male        65+        9\n",
       "Online ads          Bangalore  Tier 1  Non-binary  15-18      9\n",
       "Outdoor billboards  Delhi      Tier 1  Female      31-45      9\n",
       "                    Ahmedabad  Tier 2  Female      19-30      9\n",
       "Other               Hyderabad  Tier 1  Male        15-18      9\n",
       "Outdoor billboards  Bangalore  Tier 1  Non-binary  19-30      9\n",
       "TV commercials      Jaipur     Tier 2  Female      31-45      9\n",
       "Print media         Mumbai     Tier 1  Male        15-18      9\n",
       "Online ads          Pune       Tier 2  Female      46-65      9\n",
       "TV commercials      Mumbai     Tier 1  Non-binary  31-45      9\n",
       "Online ads          Pune       Tier 2  Male        46-65      9\n",
       "Print media         Mumbai     Tier 1  Male        31-45      9\n",
       "TV commercials      Bangalore  Tier 1  Non-binary  31-45      9\n",
       "Outdoor billboards  Jaipur     Tier 2  Male        19-30      8\n",
       "TV commercials      Pune       Tier 2  Female      46-65      8\n",
       "                    Mumbai     Tier 1  Non-binary  15-18      8\n",
       "Other               Pune       Tier 2  Male        19-30      8\n",
       "TV commercials      Lucknow    Tier 2  Male        31-45      8\n",
       "Online ads          Bangalore  Tier 1  Female      65+        8\n",
       "                    Ahmedabad  Tier 2  Male        46-65      8\n",
       "                    Hyderabad  Tier 1  Female      46-65      8\n",
       "TV commercials      Chennai    Tier 1  Male        46-65      8\n",
       "Outdoor billboards  Jaipur     Tier 2  Male        15-18      8\n",
       "TV commercials      Mumbai     Tier 1  Female      46-65      8\n",
       "Outdoor billboards  Lucknow    Tier 2  Male        19-30      8\n",
       "Other               Ahmedabad  Tier 2  Male        19-30      8\n",
       "TV commercials      Lucknow    Tier 2  Male        15-18      8\n",
       "Other               Hyderabad  Tier 1  Female      46-65      8\n",
       "                    Pune       Tier 2  Female      19-30      8\n",
       "                    Delhi      Tier 1  Male        19-30      8\n",
       "Online ads          Lucknow    Tier 2  Male        31-45      8\n",
       "Print media         Ahmedabad  Tier 2  Female      19-30      8\n",
       "TV commercials      Pune       Tier 2  Non-binary  19-30      7\n",
       "Outdoor billboards  Mumbai     Tier 1  Female      15-18      7\n",
       "Print media         Bangalore  Tier 1  Non-binary  19-30      7\n",
       "TV commercials      Pune       Tier 2  Male        46-65      7\n",
       "Outdoor billboards  Delhi      Tier 1  Female      19-30      7\n",
       "Online ads          Bangalore  Tier 1  Non-binary  31-45      7\n",
       "Print media         Kolkata    Tier 2  Female      19-30      7\n",
       "Outdoor billboards  Bangalore  Tier 1  Male        65+        7\n",
       "Print media         Ahmedabad  Tier 2  Male        31-45      7\n",
       "Other               Mumbai     Tier 1  Male        15-18      7\n",
       "Online ads          Hyderabad  Tier 1  Female      65+        7\n",
       "                    Lucknow    Tier 2  Female      31-45      7\n",
       "                    Mumbai     Tier 1  Non-binary  15-18      7\n",
       "Outdoor billboards  Pune       Tier 2  Male        15-18      7\n",
       "Other               Mumbai     Tier 1  Female      31-45      7\n",
       "TV commercials      Chennai    Tier 1  Non-binary  31-45      7\n",
       "Print media         Hyderabad  Tier 1  Female      15-18      7\n",
       "TV commercials      Chennai    Tier 1  Female      19-30      7\n",
       "Outdoor billboards  Ahmedabad  Tier 2  Non-binary  19-30      7\n",
       "                    Bangalore  Tier 1  Female      15-18      7\n",
       "                    Kolkata    Tier 2  Female      19-30      6\n",
       "Online ads          Mumbai     Tier 1  Non-binary  31-45      6\n",
       "                    Pune       Tier 2  Female      65+        6\n",
       "Print media         Delhi      Tier 1  Female      19-30      6\n",
       "                    Chennai    Tier 1  Male        46-65      6\n",
       "Outdoor billboards  Pune       Tier 2  Non-binary  19-30      6\n",
       "Other               Chennai    Tier 1  Male        15-18      6\n",
       "TV commercials      Pune       Tier 2  Male        65+        6\n",
       "Other               Chennai    Tier 1  Male        46-65      6\n",
       "Print media         Pune       Tier 2  Male        31-45      6\n",
       "Online ads          Bangalore  Tier 1  Female      46-65      6\n",
       "                    Lucknow    Tier 2  Male        15-18      6\n",
       "                    Delhi      Tier 1  Female      15-18      6\n",
       "                    Bangalore  Tier 1  Male        46-65      6\n",
       "Other               Hyderabad  Tier 1  Male        65+        6\n",
       "Print media         Bangalore  Tier 1  Female      65+        6\n",
       "Other               Jaipur     Tier 2  Female      19-30      6\n",
       "Online ads          Kolkata    Tier 2  Female      31-45      6\n",
       "Other               Jaipur     Tier 2  Non-binary  19-30      6\n",
       "                    Hyderabad  Tier 1  Female      65+        6\n",
       "TV commercials      Mumbai     Tier 1  Female      65+        6\n",
       "Print media         Jaipur     Tier 2  Male        19-30      6\n",
       "TV commercials      Mumbai     Tier 1  Male        65+        6\n",
       "Outdoor billboards  Jaipur     Tier 2  Male        31-45      5\n",
       "                    Mumbai     Tier 1  Female      31-45      5\n",
       "Print media         Delhi      Tier 1  Male        31-45      5\n",
       "                    Ahmedabad  Tier 2  Female      31-45      5\n",
       "                    Hyderabad  Tier 1  Female      46-65      5\n",
       "Outdoor billboards  Jaipur     Tier 2  Non-binary  19-30      5\n",
       "Print media         Ahmedabad  Tier 2  Male        19-30      5\n",
       "Outdoor billboards  Mumbai     Tier 1  Non-binary  19-30      5\n",
       "Print media         Hyderabad  Tier 1  Male        15-18      5\n",
       "                    Bangalore  Tier 1  Female      15-18      5\n",
       "Outdoor billboards  Pune       Tier 2  Non-binary  31-45      5\n",
       "                    Jaipur     Tier 2  Female      19-30      5\n",
       "Other               Kolkata    Tier 2  Male        15-18      5\n",
       "Online ads          Chennai    Tier 1  Male        46-65      5\n",
       "Other               Hyderabad  Tier 1  Female      15-18      5\n",
       "TV commercials      Delhi      Tier 1  Male        46-65      5\n",
       "Online ads          Delhi      Tier 1  Non-binary  19-30      5\n",
       "TV commercials      Chennai    Tier 1  Female      31-45      5\n",
       "Outdoor billboards  Ahmedabad  Tier 2  Female      31-45      5\n",
       "                    Chennai    Tier 1  Female      19-30      5\n",
       "Other               Chennai    Tier 1  Female      15-18      5\n",
       "Print media         Pune       Tier 2  Female      19-30      5\n",
       "Outdoor billboards  Chennai    Tier 1  Non-binary  19-30      5\n",
       "Other               Ahmedabad  Tier 2  Non-binary  19-30      5\n",
       "                    Jaipur     Tier 2  Male        19-30      5\n",
       "Print media         Pune       Tier 2  Male        15-18      5\n",
       "TV commercials      Kolkata    Tier 2  Non-binary  19-30      5\n",
       "Print media         Pune       Tier 2  Non-binary  19-30      5\n",
       "Outdoor billboards  Hyderabad  Tier 1  Female      46-65      5\n",
       "Online ads          Hyderabad  Tier 1  Non-binary  31-45      5\n",
       "                    Mumbai     Tier 1  Male        65+        5\n",
       "TV commercials      Jaipur     Tier 2  Male        46-65      4\n",
       "Other               Delhi      Tier 1  Male        31-45      4\n",
       "TV commercials      Kolkata    Tier 2  Male        46-65      4\n",
       "                    Hyderabad  Tier 1  Male        65+        4\n",
       "                                       Non-binary  15-18      4\n",
       "Other               Delhi      Tier 1  Female      19-30      4\n",
       "                    Chennai    Tier 1  Female      46-65      4\n",
       "                                       Male        65+        4\n",
       "TV commercials      Kolkata    Tier 2  Female      15-18      4\n",
       "Other               Ahmedabad  Tier 2  Female      15-18      4\n",
       "Outdoor billboards  Pune       Tier 2  Non-binary  46-65      4\n",
       "TV commercials      Jaipur     Tier 2  Female      15-18      4\n",
       "Other               Ahmedabad  Tier 2  Non-binary  31-45      4\n",
       "TV commercials      Kolkata    Tier 2  Female      19-30      4\n",
       "                    Jaipur     Tier 2  Female      46-65      4\n",
       "Print media         Pune       Tier 2  Female      15-18      4\n",
       "Other               Jaipur     Tier 2  Female      31-45      4\n",
       "Online ads          Hyderabad  Tier 1  Male        46-65      4\n",
       "                    Ahmedabad  Tier 2  Non-binary  19-30      4\n",
       "Print media         Mumbai     Tier 1  Female      31-45      4\n",
       "Outdoor billboards  Kolkata    Tier 2  Female      31-45      4\n",
       "                                       Male        15-18      4\n",
       "Print media         Mumbai     Tier 1  Female      15-18      4\n",
       "                    Lucknow    Tier 2  Male        19-30      4\n",
       "Online ads          Chennai    Tier 1  Female      65+        4\n",
       "                                       Non-binary  19-30      4\n",
       "Print media         Bangalore  Tier 1  Male        65+        4\n",
       "                    Kolkata    Tier 2  Female      46-65      4\n",
       "TV commercials      Ahmedabad  Tier 2  Non-binary  19-30      4\n",
       "Outdoor billboards  Chennai    Tier 1  Male        46-65      4\n",
       "                                       Female      31-45      4\n",
       "Other               Pune       Tier 2  Non-binary  15-18      4\n",
       "Online ads          Delhi      Tier 1  Male        46-65      4\n",
       "Other               Mumbai     Tier 1  Female      15-18      4\n",
       "                    Kolkata    Tier 2  Male        46-65      4\n",
       "Online ads          Lucknow    Tier 2  Female      15-18      4\n",
       "TV commercials      Delhi      Tier 1  Non-binary  19-30      4\n",
       "Online ads          Kolkata    Tier 2  Male        31-45      4\n",
       "TV commercials      Pune       Tier 2  Female      65+        3\n",
       "Print media         Chennai    Tier 1  Female      65+        3\n",
       "TV commercials      Lucknow    Tier 2  Female      15-18      3\n",
       "Print media         Delhi      Tier 1  Male        15-18      3\n",
       "TV commercials      Delhi      Tier 1  Non-binary  31-45      3\n",
       "Print media         Hyderabad  Tier 1  Non-binary  19-30      3\n",
       "                    Jaipur     Tier 2  Female      19-30      3\n",
       "TV commercials      Ahmedabad  Tier 2  Male        46-65      3\n",
       "                                       Female      46-65      3\n",
       "Print media         Lucknow    Tier 2  Female      31-45      3\n",
       "                                       Male        15-18      3\n",
       "                    Pune       Tier 2  Female      31-45      3\n",
       "                    Mumbai     Tier 1  Female      65+        3\n",
       "                    Chennai    Tier 1  Male        15-18      3\n",
       "Online ads          Ahmedabad  Tier 2  Female      15-18      3\n",
       "Other               Pune       Tier 2  Male        15-18      3\n",
       "Outdoor billboards  Pune       Tier 2  Female      15-18      3\n",
       "Online ads          Mumbai     Tier 1  Female      65+        3\n",
       "                    Pune       Tier 2  Non-binary  19-30      3\n",
       "Outdoor billboards  Mumbai     Tier 1  Male        46-65      3\n",
       "Other               Ahmedabad  Tier 2  Female      19-30      3\n",
       "Outdoor billboards  Mumbai     Tier 1  Female      65+        3\n",
       "                                                   46-65      3\n",
       "Other               Ahmedabad  Tier 2  Male        15-18      3\n",
       "                    Hyderabad  Tier 1  Non-binary  19-30      3\n",
       "                    Kolkata    Tier 2  Non-binary  19-30      3\n",
       "                    Lucknow    Tier 2  Male        19-30      3\n",
       "                    Pune       Tier 2  Female      15-18      3\n",
       "                                       Male        31-45      3\n",
       "Outdoor billboards  Ahmedabad  Tier 2  Female      15-18      3\n",
       "                    Hyderabad  Tier 1  Non-binary  19-30      3\n",
       "                                       Female      15-18      3\n",
       "Online ads          Kolkata    Tier 2  Non-binary  19-30      3\n",
       "Outdoor billboards  Lucknow    Tier 2  Non-binary  15-18      3\n",
       "Online ads          Kolkata    Tier 2  Male        46-65      3\n",
       "                    Delhi      Tier 1  Non-binary  46-65      3\n",
       "                    Chennai    Tier 1  Female      46-65      3\n",
       "Other               Pune       Tier 2  Non-binary  46-65      2\n",
       "TV commercials      Chennai    Tier 1  Male        65+        2\n",
       "Other               Mumbai     Tier 1  Male        46-65      2\n",
       "                                       Non-binary  19-30      2\n",
       "Online ads          Bangalore  Tier 1  Non-binary  65+        2\n",
       "Other               Pune       Tier 2  Female      31-45      2\n",
       "                                                   46-65      2\n",
       "TV commercials      Bangalore  Tier 1  Non-binary  65+        2\n",
       "Online ads          Bangalore  Tier 1  Male        65+        2\n",
       "Other               Pune       Tier 2  Male        46-65      2\n",
       "                                       Non-binary  31-45      2\n",
       "Online ads          Ahmedabad  Tier 2  Female      46-65      2\n",
       "Outdoor billboards  Bangalore  Tier 1  Female      46-65      2\n",
       "                                       Non-binary  15-18      2\n",
       "                                                   31-45      2\n",
       "                    Chennai    Tier 1  Male        65+        2\n",
       "TV commercials      Ahmedabad  Tier 2  Male        65+        2\n",
       "Outdoor billboards  Delhi      Tier 1  Female      15-18      2\n",
       "                                       Male        46-65      2\n",
       "TV commercials      Pune       Tier 2  Non-binary  31-45      2\n",
       "Outdoor billboards  Delhi      Tier 1  Non-binary  31-45      2\n",
       "TV commercials      Pune       Tier 2  Non-binary  46-65      2\n",
       "Other               Mumbai     Tier 1  Female      46-65      2\n",
       "Online ads          Delhi      Tier 1  Female      46-65      2\n",
       "                    Kolkata    Tier 2  Female      46-65      2\n",
       "                    Delhi      Tier 1  Male        65+        2\n",
       "                    Lucknow    Tier 2  Male        46-65      2\n",
       "TV commercials      Kolkata    Tier 2  Non-binary  31-45      2\n",
       "Online ads          Jaipur     Tier 2  Male        65+        2\n",
       "                                       Female      46-65      2\n",
       "                    Hyderabad  Tier 1  Non-binary  46-65      2\n",
       "                    Pune       Tier 2  Non-binary  31-45      2\n",
       "                    Hyderabad  Tier 1  Non-binary  15-18      2\n",
       "TV commercials      Jaipur     Tier 2  Non-binary  31-45      2\n",
       "Online ads          Delhi      Tier 1  Non-binary  31-45      2\n",
       "TV commercials      Jaipur     Tier 2  Non-binary  19-30      2\n",
       "Other               Bangalore  Tier 1  Non-binary  19-30      2\n",
       "                    Kolkata    Tier 2  Female      65+        2\n",
       "TV commercials      Hyderabad  Tier 1  Non-binary  46-65      2\n",
       "Print media         Pune       Tier 2  Non-binary  15-18      2\n",
       "Other               Chennai    Tier 1  Female      65+        2\n",
       "                    Delhi      Tier 1  Female      15-18      2\n",
       "                                                   31-45      2\n",
       "Online ads          Delhi      Tier 1  Female      65+        2\n",
       "TV commercials      Hyderabad  Tier 1  Female      65+        2\n",
       "Other               Jaipur     Tier 2  Female      15-18      2\n",
       "                                       Male        15-18      2\n",
       "                                                   31-45      2\n",
       "Print media         Pune       Tier 2  Non-binary  31-45      2\n",
       "                    Chennai    Tier 1  Female      46-65      2\n",
       "                    Kolkata    Tier 2  Male        15-18      2\n",
       "                    Hyderabad  Tier 1  Non-binary  31-45      2\n",
       "                    Lucknow    Tier 2  Male        31-45      2\n",
       "Outdoor billboards  Kolkata    Tier 2  Non-binary  19-30      2\n",
       "                                       Male        46-65      2\n",
       "                    Pune       Tier 2  Male        46-65      2\n",
       "                                       Non-binary  15-18      2\n",
       "                    Mumbai     Tier 1  Male        65+        2\n",
       "                    Jaipur     Tier 2  Non-binary  31-45      2\n",
       "Print media         Ahmedabad  Tier 2  Male        15-18      2\n",
       "                    Hyderabad  Tier 1  Female      65+        2\n",
       "                    Mumbai     Tier 1  Non-binary  19-30      2\n",
       "Outdoor billboards  Lucknow    Tier 2  Female      19-30      2\n",
       "                    Kolkata    Tier 2  Male        65+        2\n",
       "Print media         Kolkata    Tier 2  Female      65+        2\n",
       "                    Delhi      Tier 1  Female      15-18      2\n",
       "Outdoor billboards  Hyderabad  Tier 1  Non-binary  46-65      2\n",
       "                                                   31-45      2\n",
       "                    Lucknow    Tier 2  Male        31-45      2\n",
       "                                       Non-binary  31-45      2\n",
       "Print media         Jaipur     Tier 2  Male        31-45      2\n",
       "                    Pune       Tier 2  Male        65+        2\n",
       "                                       Female      46-65      2\n",
       "Other               Ahmedabad  Tier 2  Female      31-45      1\n",
       "Online ads          Kolkata    Tier 2  Male        65+        1\n",
       "Other               Ahmedabad  Tier 2  Female      46-65      1\n",
       "Online ads          Kolkata    Tier 2  Non-binary  15-18      1\n",
       "Outdoor billboards  Mumbai     Tier 1  Non-binary  46-65      1\n",
       "TV commercials      Jaipur     Tier 2  Non-binary  15-18      1\n",
       "Outdoor billboards  Mumbai     Tier 1  Non-binary  31-45      1\n",
       "Online ads          Lucknow    Tier 2  Non-binary  19-30      1\n",
       "TV commercials      Kolkata    Tier 2  Non-binary  46-65      1\n",
       "Print media         Jaipur     Tier 2  Female      15-18      1\n",
       "TV commercials      Kolkata    Tier 2  Non-binary  15-18      1\n",
       "                                       Male        65+        1\n",
       "Print media         Hyderabad  Tier 1  Male        65+        1\n",
       "Online ads          Mumbai     Tier 1  Non-binary  46-65      1\n",
       "                    Pune       Tier 2  Male        65+        1\n",
       "TV commercials      Kolkata    Tier 2  Female      46-65      1\n",
       "Print media         Jaipur     Tier 2  Female      31-45      1\n",
       "                    Hyderabad  Tier 1  Non-binary  15-18      1\n",
       "Online ads          Jaipur     Tier 2  Non-binary  19-30      1\n",
       "Outdoor billboards  Pune       Tier 2  Female      46-65      1\n",
       "TV commercials      Lucknow    Tier 2  Non-binary  31-45      1\n",
       "Print media         Bangalore  Tier 1  Non-binary  65+        1\n",
       "                    Ahmedabad  Tier 2  Non-binary  31-45      1\n",
       "                    Chennai    Tier 1  Male        65+        1\n",
       "Online ads          Ahmedabad  Tier 2  Non-binary  15-18      1\n",
       "                                                   31-45      1\n",
       "                                                   65+        1\n",
       "Print media         Chennai    Tier 1  Non-binary  31-45      1\n",
       "Online ads          Bangalore  Tier 1  Non-binary  46-65      1\n",
       "Print media         Ahmedabad  Tier 2  Non-binary  15-18      1\n",
       "Online ads          Chennai    Tier 1  Non-binary  15-18      1\n",
       "                                                   31-45      1\n",
       "Print media         Ahmedabad  Tier 2  Male        46-65      1\n",
       "TV commercials      Mumbai     Tier 1  Non-binary  65+        1\n",
       "                                                   46-65      1\n",
       "Print media         Ahmedabad  Tier 2  Female      65+        1\n",
       "Online ads          Delhi      Tier 1  Non-binary  15-18      1\n",
       "Print media         Delhi      Tier 1  Male        46-65      1\n",
       "                                       Non-binary  19-30      1\n",
       "Online ads          Hyderabad  Tier 1  Male        65+        1\n",
       "Print media         Delhi      Tier 1  Non-binary  31-45      1\n",
       "                    Ahmedabad  Tier 2  Female      15-18      1\n",
       "Online ads          Hyderabad  Tier 1  Non-binary  65+        1\n",
       "                    Jaipur     Tier 2  Male        46-65      1\n",
       "Other               Ahmedabad  Tier 2  Male        31-45      1\n",
       "TV commercials      Lucknow    Tier 2  Non-binary  46-65      1\n",
       "Print media         Kolkata    Tier 2  Female      15-18      1\n",
       "Outdoor billboards  Delhi      Tier 1  Non-binary  46-65      1\n",
       "Other               Ahmedabad  Tier 2  Non-binary  15-18      1\n",
       "                    Bangalore  Tier 1  Female      65+        1\n",
       "Outdoor billboards  Jaipur     Tier 2  Non-binary  46-65      1\n",
       "TV commercials      Chennai    Tier 1  Female      65+        1\n",
       "Print media         Mumbai     Tier 1  Female      46-65      1\n",
       "                    Chennai    Tier 1  Female      15-18      1\n",
       "Outdoor billboards  Jaipur     Tier 2  Male        46-65      1\n",
       "TV commercials      Bangalore  Tier 1  Non-binary  46-65      1\n",
       "Outdoor billboards  Jaipur     Tier 2  Female      46-65      1\n",
       "                                                   31-45      1\n",
       "Other               Pune       Tier 2  Male        65+        1\n",
       "Print media         Mumbai     Tier 1  Male        46-65      1\n",
       "                                       Non-binary  15-18      1\n",
       "Outdoor billboards  Ahmedabad  Tier 2  Non-binary  31-45      1\n",
       "Print media         Mumbai     Tier 1  Non-binary  31-45      1\n",
       "TV commercials      Bangalore  Tier 1  Female      65+        1\n",
       "                                                   46-65      1\n",
       "Print media         Mumbai     Tier 1  Non-binary  46-65      1\n",
       "Outdoor billboards  Jaipur     Tier 2  Female      15-18      1\n",
       "                    Chennai    Tier 1  Female      15-18      1\n",
       "                                       Non-binary  15-18      1\n",
       "                                                   65+        1\n",
       "                    Delhi      Tier 1  Female      46-65      1\n",
       "                                       Male        15-18      1\n",
       "Print media         Pune       Tier 2  Female      65+        1\n",
       "Outdoor billboards  Delhi      Tier 1  Non-binary  19-30      1\n",
       "                    Hyderabad  Tier 1  Non-binary  15-18      1\n",
       "Other               Mumbai     Tier 1  Non-binary  31-45      1\n",
       "Outdoor billboards  Jaipur     Tier 2  Non-binary  65+        1\n",
       "Print media         Lucknow    Tier 2  Non-binary  31-45      1\n",
       "                                       Female      15-18      1\n",
       "Other               Bangalore  Tier 1  Non-binary  15-18      1\n",
       "                                                   31-45      1\n",
       "Outdoor billboards  Lucknow    Tier 2  Non-binary  19-30      1\n",
       "Other               Delhi      Tier 1  Male        15-18      1\n",
       "                                                   65+        1\n",
       "                                       Non-binary  19-30      1\n",
       "                    Hyderabad  Tier 1  Non-binary  15-18      1\n",
       "Print media         Kolkata    Tier 2  Male        65+        1\n",
       "TV commercials      Hyderabad  Tier 1  Female      46-65      1\n",
       "Other               Hyderabad  Tier 1  Non-binary  31-45      1\n",
       "Print media         Kolkata    Tier 2  Non-binary  31-45      1\n",
       "TV commercials      Delhi      Tier 1  Non-binary  65+        1\n",
       "                    Chennai    Tier 1  Non-binary  15-18      1\n",
       "Print media         Lucknow    Tier 2  Female      19-30      1\n",
       "Other               Kolkata    Tier 2  Female      15-18      1\n",
       "TV commercials      Delhi      Tier 1  Non-binary  15-18      1\n",
       "                                       Male        65+        1\n",
       "Other               Kolkata    Tier 2  Female      46-65      1\n",
       "Outdoor billboards  Lucknow    Tier 2  Female      15-18      1\n",
       "Other               Kolkata    Tier 2  Non-binary  15-18      1\n",
       "TV commercials      Delhi      Tier 1  Female      46-65      1\n",
       "Other               Lucknow    Tier 2  Male        15-18      1\n",
       "                                                   65+        1\n",
       "                    Mumbai     Tier 1  Female      65+        1\n",
       "TV commercials      Pune       Tier 2  Non-binary  65+        1\n",
       "dtype: int64"
      ]
     },
     "execution_count": 8,
     "metadata": {},
     "output_type": "execute_result"
    }
   ],
   "source": [
    "#a. Which marketing channel can be used to reach more customers?\n",
    "pd.set_option(\"display.max_rows\",None)\n",
    "df[['Marketing_channels','City', 'Tier','Gender','Age']].value_counts(ascending=False)"
   ]
  },
  {
   "cell_type": "code",
   "execution_count": 9,
   "metadata": {},
   "outputs": [
    {
     "data": {
      "text/plain": [
       "Online ads            4020\n",
       "TV commercials        2688\n",
       "Outdoor billboards    1226\n",
       "Other                 1225\n",
       "Print media            841\n",
       "Name: Marketing_channels, dtype: int64"
      ]
     },
     "execution_count": 9,
     "metadata": {},
     "output_type": "execute_result"
    }
   ],
   "source": [
    "#b. How effective are different marketing strategies and channels in reaching our customers?\n",
    "df['Marketing_channels'].value_counts(ascending=False)"
   ]
  },
  {
   "cell_type": "code",
   "execution_count": 10,
   "metadata": {},
   "outputs": [
    {
     "data": {
      "text/plain": [
       "Index(['Response_ID', 'Respondent_ID', 'Consume_frequency', 'Consume_time',\n",
       "       'Consume_reason', 'Heard_before', 'Brand_perception',\n",
       "       'General_perception', 'Tried_before', 'Taste_experience',\n",
       "       'Reasons_preventing_trying', 'Current_brands',\n",
       "       'Reasons_for_choosing_brands', 'Improvements_desired',\n",
       "       'Ingredients_expected', 'Health_concerns',\n",
       "       'Interest_in_natural_or_organic', 'Marketing_channels',\n",
       "       'Packaging_preference', 'Limited_edition_packaging', 'Price_range',\n",
       "       'Purchase_location', 'Typical_consumption_situations', 'Name', 'Age',\n",
       "       'Gender', 'City_ID', 'City', 'Tier'],\n",
       "      dtype='object')"
      ]
     },
     "execution_count": 10,
     "metadata": {},
     "output_type": "execute_result"
    }
   ],
   "source": [
    "df.columns"
   ]
  },
  {
   "cell_type": "code",
   "execution_count": 11,
   "metadata": {},
   "outputs": [
    {
     "data": {
      "text/plain": [
       "Neutral     5974\n",
       "Positive    2257\n",
       "Negative    1769\n",
       "Name: Brand_perception, dtype: int64"
      ]
     },
     "execution_count": 11,
     "metadata": {},
     "output_type": "execute_result"
    }
   ],
   "source": [
    "# a. What do people think about our brand? (overall rating)\n",
    "df['Brand_perception'].value_counts()"
   ]
  },
  {
   "cell_type": "code",
   "execution_count": 12,
   "metadata": {},
   "outputs": [
    {
     "data": {
      "text/plain": [
       "City       Purchase_location       \n",
       "Ahmedabad  Supermarkets                 205\n",
       "           Online retailers             111\n",
       "           Gyms and fitness centers      62\n",
       "           Other                         43\n",
       "           Local stores                  35\n",
       "Bangalore  Supermarkets                1282\n",
       "           Online retailers             719\n",
       "           Gyms and fitness centers     407\n",
       "           Local stores                 236\n",
       "           Other                        184\n",
       "Chennai    Supermarkets                 410\n",
       "           Online retailers             246\n",
       "           Gyms and fitness centers     133\n",
       "           Local stores                  83\n",
       "           Other                         65\n",
       "Delhi      Supermarkets                 176\n",
       "           Online retailers             113\n",
       "           Gyms and fitness centers      85\n",
       "           Other                         28\n",
       "           Local stores                  27\n",
       "Hyderabad  Supermarkets                 845\n",
       "           Online retailers             476\n",
       "           Gyms and fitness centers     247\n",
       "           Local stores                 135\n",
       "           Other                        130\n",
       "Jaipur     Supermarkets                 155\n",
       "           Online retailers              87\n",
       "           Gyms and fitness centers      53\n",
       "           Local stores                  38\n",
       "           Other                         27\n",
       "Kolkata    Supermarkets                 264\n",
       "           Online retailers             137\n",
       "           Gyms and fitness centers      87\n",
       "           Local stores                  47\n",
       "           Other                         31\n",
       "Lucknow    Supermarkets                  87\n",
       "           Online retailers              39\n",
       "           Gyms and fitness centers      20\n",
       "           Local stores                  16\n",
       "           Other                         13\n",
       "Mumbai     Supermarkets                 678\n",
       "           Online retailers             407\n",
       "           Gyms and fitness centers     223\n",
       "           Local stores                 118\n",
       "           Other                         84\n",
       "Pune       Supermarkets                 392\n",
       "           Online retailers             215\n",
       "           Gyms and fitness centers     147\n",
       "           Local stores                  78\n",
       "           Other                         74\n",
       "dtype: int64"
      ]
     },
     "execution_count": 12,
     "metadata": {},
     "output_type": "execute_result"
    }
   ],
   "source": [
    "# b. Which cities do we need to focus more on?\n",
    "df[['City','Purchase_location']].groupby(by='City').value_counts(ascending=False)\n"
   ]
  },
  {
   "cell_type": "code",
   "execution_count": 13,
   "metadata": {},
   "outputs": [
    {
     "data": {
      "text/plain": [
       "Supermarkets                4494\n",
       "Online retailers            2550\n",
       "Gyms and fitness centers    1464\n",
       "Local stores                 813\n",
       "Other                        679\n",
       "Name: Purchase_location, dtype: int64"
      ]
     },
     "execution_count": 13,
     "metadata": {},
     "output_type": "execute_result"
    }
   ],
   "source": [
    "# a. Where do respondents prefer to purchase energy drinks?\n",
    "df['Purchase_location'].value_counts()"
   ]
  },
  {
   "cell_type": "code",
   "execution_count": 14,
   "metadata": {},
   "outputs": [
    {
     "data": {
      "text/plain": [
       "['Studying/working late',\n",
       " 'Sports/exercise',\n",
       " 'Social outings/parties',\n",
       " 'Driving/commuting',\n",
       " 'Other']"
      ]
     },
     "execution_count": 14,
     "metadata": {},
     "output_type": "execute_result"
    }
   ],
   "source": [
    "# b. What are the typical consumption situations for energy drinks among respondents?\n",
    "list(df['Typical_consumption_situations'].unique())"
   ]
  },
  {
   "cell_type": "code",
   "execution_count": 15,
   "metadata": {},
   "outputs": [
    {
     "data": {
      "text/plain": [
       "Price_range  Limited_edition_packaging\n",
       "100-150      Yes                          1263\n",
       "             No                           1244\n",
       "             Not Sure                      635\n",
       "50-99        No                           1741\n",
       "             Yes                          1679\n",
       "             Not Sure                      868\n",
       "Above 150    No                            639\n",
       "             Yes                           600\n",
       "             Not Sure                      322\n",
       "Below 50     Yes                           404\n",
       "             No                            399\n",
       "             Not Sure                      206\n",
       "dtype: int64"
      ]
     },
     "execution_count": 15,
     "metadata": {},
     "output_type": "execute_result"
    }
   ],
   "source": [
    "#c. What factors influence respondents' purchase decisions, such as price range and limited edition packaging?\n",
    "df[['Price_range','Limited_edition_packaging']].groupby(by='Price_range').value_counts(sort=True,ascending=False)"
   ]
  },
  {
   "cell_type": "code",
   "execution_count": 16,
   "metadata": {},
   "outputs": [
    {
     "data": {
      "text/plain": [
       "Index(['Response_ID', 'Respondent_ID', 'Consume_frequency', 'Consume_time',\n",
       "       'Consume_reason', 'Heard_before', 'Brand_perception',\n",
       "       'General_perception', 'Tried_before', 'Taste_experience',\n",
       "       'Reasons_preventing_trying', 'Current_brands',\n",
       "       'Reasons_for_choosing_brands', 'Improvements_desired',\n",
       "       'Ingredients_expected', 'Health_concerns',\n",
       "       'Interest_in_natural_or_organic', 'Marketing_channels',\n",
       "       'Packaging_preference', 'Limited_edition_packaging', 'Price_range',\n",
       "       'Purchase_location', 'Typical_consumption_situations', 'Name', 'Age',\n",
       "       'Gender', 'City_ID', 'City', 'Tier'],\n",
       "      dtype='object')"
      ]
     },
     "execution_count": 16,
     "metadata": {},
     "output_type": "execute_result"
    }
   ],
   "source": [
    "df.columns"
   ]
  },
  {
   "cell_type": "code",
   "execution_count": 17,
   "metadata": {},
   "outputs": [
    {
     "data": {
      "text/plain": [
       "(980, 29)"
      ]
     },
     "execution_count": 17,
     "metadata": {},
     "output_type": "execute_result"
    }
   ],
   "source": [
    "df_codex=df[df['Current_brands']=='CodeX']\n",
    "df_codex.shape\n",
    "\n",
    "#### CLEARLY ONLY 980/10000 RESPONDENTS TALKED ABOUT CODEX -> SO PEOPLE ARE UNAWARE, "
   ]
  },
  {
   "cell_type": "code",
   "execution_count": 22,
   "metadata": {},
   "outputs": [
    {
     "data": {
      "text/plain": [
       "Brand_perception  Current_brands  Improvements_desired    \n",
       "Negative          CodeX           Reduced sugar content        51\n",
       "                                  Wider range of flavors       40\n",
       "                                  More natural ingredients     37\n",
       "                                  Healthier alternatives       31\n",
       "                                  Other                        13\n",
       "Neutral           CodeX           Reduced sugar content       179\n",
       "                                  More natural ingredients    136\n",
       "                                  Wider range of flavors      128\n",
       "                                  Healthier alternatives       81\n",
       "                                  Other                        65\n",
       "Positive          CodeX           Reduced sugar content        68\n",
       "                                  More natural ingredients     61\n",
       "                                  Wider range of flavors       40\n",
       "                                  Healthier alternatives       31\n",
       "                                  Other                        19\n",
       "dtype: int64"
      ]
     },
     "execution_count": 22,
     "metadata": {},
     "output_type": "execute_result"
    }
   ],
   "source": [
    "#a. Which area of business should we focus more on our product development? (Branding/taste/availability)\n",
    "df_codex[['Current_brands','Brand_perception','Improvements_desired']].groupby(by='Brand_perception').value_counts()"
   ]
  },
  {
   "cell_type": "code",
   "execution_count": 23,
   "metadata": {},
   "outputs": [
    {
     "data": {
      "text/plain": [
       "Improvements_desired      Current_brands\n",
       "Healthier alternatives    Cola-Coka         394\n",
       "                          Bepsi             300\n",
       "                          Gangster          274\n",
       "                          Blue Bull         154\n",
       "                          Sky 9             144\n",
       "                          CodeX             143\n",
       "                          Others             63\n",
       "More natural ingredients  Cola-Coka         645\n",
       "                          Bepsi             520\n",
       "                          Gangster          471\n",
       "                          Blue Bull         273\n",
       "                          CodeX             234\n",
       "                          Sky 9             227\n",
       "                          Others            128\n",
       "Other                     Cola-Coka         257\n",
       "                          Bepsi             210\n",
       "                          Gangster          191\n",
       "                          Blue Bull         109\n",
       "                          CodeX              97\n",
       "                          Sky 9              88\n",
       "                          Others             46\n",
       "Reduced sugar content     Cola-Coka         742\n",
       "                          Bepsi             629\n",
       "                          Gangster          563\n",
       "                          Sky 9             322\n",
       "                          Blue Bull         300\n",
       "                          CodeX             298\n",
       "                          Others            141\n",
       "Wider range of flavors    Cola-Coka         500\n",
       "                          Bepsi             453\n",
       "                          Gangster          355\n",
       "                          Blue Bull         222\n",
       "                          CodeX             208\n",
       "                          Sky 9             198\n",
       "                          Others            101\n",
       "dtype: int64"
      ]
     },
     "execution_count": 23,
     "metadata": {},
     "output_type": "execute_result"
    }
   ],
   "source": [
    "df[['Current_brands','Improvements_desired']].groupby(by='Improvements_desired').value_counts()"
   ]
  },
  {
   "cell_type": "code",
   "execution_count": 29,
   "metadata": {},
   "outputs": [
    {
     "data": {
      "text/plain": [
       "General_perception  Current_brands\n",
       "Dangerous           Cola-Coka         554\n",
       "                    Bepsi             504\n",
       "                    Gangster          415\n",
       "                    Blue Bull         239\n",
       "                    CodeX             214\n",
       "                    Sky 9             205\n",
       "                    Others            107\n",
       "Effective           Cola-Coka         752\n",
       "                    Bepsi             615\n",
       "                    Gangster          512\n",
       "                    Blue Bull         309\n",
       "                    Sky 9             297\n",
       "                    CodeX             286\n",
       "                    Others            138\n",
       "Healthy             Cola-Coka         567\n",
       "                    Bepsi             468\n",
       "                    Gangster          454\n",
       "                    CodeX             220\n",
       "                    Blue Bull         213\n",
       "                    Sky 9             205\n",
       "                    Others            116\n",
       "Not sure            Cola-Coka         665\n",
       "                    Bepsi             525\n",
       "                    Gangster          473\n",
       "                    Blue Bull         297\n",
       "                    Sky 9             272\n",
       "                    CodeX             260\n",
       "                    Others            118\n",
       "dtype: int64"
      ]
     },
     "execution_count": 29,
     "metadata": {},
     "output_type": "execute_result"
    }
   ],
   "source": [
    "df[['Current_brands','General_perception']].groupby(by='General_perception').value_counts()"
   ]
  },
  {
   "cell_type": "code",
   "execution_count": 35,
   "metadata": {},
   "outputs": [
    {
     "data": {
      "text/plain": [
       "Reasons_for_choosing_brands  Current_brands\n",
       "Availability                 Cola-Coka         510\n",
       "                             Bepsi             418\n",
       "                             Gangster          339\n",
       "                             CodeX             195\n",
       "                             Sky 9             182\n",
       "                             Blue Bull         180\n",
       "                             Others             86\n",
       "Brand reputation             Cola-Coka         616\n",
       "                             Bepsi             577\n",
       "                             Gangster          511\n",
       "                             Blue Bull         289\n",
       "                             Sky 9             260\n",
       "                             CodeX             259\n",
       "                             Others            140\n",
       "Effectiveness                Cola-Coka         433\n",
       "                             Bepsi             339\n",
       "                             Gangster          338\n",
       "                             Sky 9             188\n",
       "                             Blue Bull         187\n",
       "                             CodeX             176\n",
       "                             Others             87\n",
       "Other                        Cola-Coka         448\n",
       "                             Bepsi             355\n",
       "                             Gangster          309\n",
       "                             CodeX             168\n",
       "                             Blue Bull         165\n",
       "                             Sky 9             155\n",
       "                             Others             79\n",
       "Taste/flavor preference      Cola-Coka         531\n",
       "                             Bepsi             423\n",
       "                             Gangster          357\n",
       "                             Blue Bull         237\n",
       "                             Sky 9             194\n",
       "                             CodeX             182\n",
       "                             Others             87\n",
       "dtype: int64"
      ]
     },
     "execution_count": 35,
     "metadata": {},
     "output_type": "execute_result"
    }
   ],
   "source": [
    "df[['Reasons_for_choosing_brands','Current_brands']].groupby(by='Reasons_for_choosing_brands').value_counts()"
   ]
  },
  {
   "cell_type": "code",
   "execution_count": 25,
   "metadata": {},
   "outputs": [
    {
     "data": {
      "text/plain": [
       "No     525\n",
       "Yes    455\n",
       "Name: Heard_before, dtype: int64"
      ]
     },
     "execution_count": 25,
     "metadata": {},
     "output_type": "execute_result"
    }
   ],
   "source": [
    "df_codex['Heard_before','Consume_frequency',].value_counts()"
   ]
  },
  {
   "cell_type": "markdown",
   "metadata": {},
   "source": [
    "#### Observation\n",
    "\n",
    "1. With respect to brand perception being negative, positive or neutral --> people wish to see a lot of improvements in product. Eg: reduced sugar content, more natural ingredients, wider range of flavours.\n"
   ]
  }
 ],
 "metadata": {
  "kernelspec": {
   "display_name": "Python 3",
   "language": "python",
   "name": "python3"
  },
  "language_info": {
   "codemirror_mode": {
    "name": "ipython",
    "version": 3
   },
   "file_extension": ".py",
   "mimetype": "text/x-python",
   "name": "python",
   "nbconvert_exporter": "python",
   "pygments_lexer": "ipython3",
   "version": "3.10.4"
  },
  "orig_nbformat": 4
 },
 "nbformat": 4,
 "nbformat_minor": 2
}
