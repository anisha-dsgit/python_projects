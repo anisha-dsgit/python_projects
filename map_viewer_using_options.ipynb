{
 "cells": [
  {
   "cell_type": "markdown",
   "metadata": {},
   "source": [
    "#### Write a program to view maps of different cities of India as user inputs "
   ]
  },
  {
   "cell_type": "code",
   "execution_count": 5,
   "metadata": {},
   "outputs": [],
   "source": [
    "import folium\n",
    "import webbrowser"
   ]
  },
  {
   "cell_type": "code",
   "execution_count": 7,
   "metadata": {},
   "outputs": [
    {
     "name": "stdout",
     "output_type": "stream",
     "text": [
      "choose from the list below: \n",
      "1. \t view Delhi map\n",
      "2. \t view Kolkata map\n",
      "3. \t view Mumbai map\n",
      "4. \t view Chennai map\n",
      "******************************\n",
      "you chose option number 1 \n"
     ]
    }
   ],
   "source": [
    "def location_details(user_input):\n",
    "    latitude=None\n",
    "    longitude=None \n",
    "    \n",
    "    if user_input==\"1\":\n",
    "        latitude=28.6139\n",
    "        longitude= 77.2090\n",
    "    elif user_input==\"2\":\n",
    "        latitude=22.5726 \n",
    "        longitude=  88.3639\n",
    "    elif user_input==\"3\":\n",
    "        latitude=19.0760\n",
    "        longitude=72.8777\n",
    "    elif user_input==\"4\":\n",
    "        latitude=13.0827 \n",
    "        longitude=80.2707 \n",
    "    else:\n",
    "        print(\"choose a correct option. \")\n",
    "    \n",
    "    if latitude is not None and longitude is not None:\n",
    "        map_viewer = folium.Map(location=[latitude, longitude], zoom_start=12)\n",
    "        \n",
    "    return map_viewer\n",
    "        \n",
    "choice_input=\"-\"    \n",
    "while True:\n",
    "    print(\"choose from the list below: \")\n",
    "    print(\"1. \\t view Delhi map\")\n",
    "    print(\"2. \\t view Kolkata map\")\n",
    "    print(\"3. \\t view Mumbai map\")\n",
    "    print(\"4. \\t view Chennai map\")\n",
    "    print(\"*\"*30)\n",
    "        \n",
    "    choice_input=input(\"choose from the options above: \")\n",
    "       \n",
    "    if choice_input==\"0\":\n",
    "        print(\"Exiting the program\")\n",
    "        break \n",
    "    elif choice_input in \"1234\":\n",
    "        print(\"you chose option number {} \".format(choice_input))\n",
    "        map_viewer=location_details(choice_input)\n",
    "        map_viewer.save(\"{}.html\".format(choice_input))\n",
    "        webbrowser.open(\"{}.html\".format(choice_input))\n",
    "        break\n",
    "    else:\n",
    "        print(\"choose from the options given. \")\n",
    "        \n",
    "    \n",
    "    "
   ]
  },
  {
   "cell_type": "code",
   "execution_count": null,
   "metadata": {},
   "outputs": [],
   "source": []
  }
 ],
 "metadata": {
  "kernelspec": {
   "display_name": "Python 3",
   "language": "python",
   "name": "python3"
  },
  "language_info": {
   "codemirror_mode": {
    "name": "ipython",
    "version": 3
   },
   "file_extension": ".py",
   "mimetype": "text/x-python",
   "name": "python",
   "nbconvert_exporter": "python",
   "pygments_lexer": "ipython3",
   "version": "3.8.18"
  },
  "orig_nbformat": 4
 },
 "nbformat": 4,
 "nbformat_minor": 2
}
