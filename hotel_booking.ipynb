{
 "cells": [
  {
   "cell_type": "code",
   "execution_count": 13,
   "metadata": {},
   "outputs": [
    {
     "name": "stdout",
     "output_type": "stream",
     "text": [
      " available hotels are: {'Delhi': ['Hotel Taj', 'Hotel Ashok'], 'Rajasthan': ['Hotel Neemrana']}\n",
      " The booking is selected for 5 days from 2024-04-21 to 2024-04-26. Selected Hotel is Hotel Neemrana and your total bill is 32500.\n",
      "Your booking is confirmed. The booking reference is RB02592721\n"
     ]
    },
    {
     "data": {
      "text/plain": [
       "{'Hotel Taj': {'Delux': {'rooms': 5}, 'Standard': {'rooms': 3}},\n",
       " 'Hotel Ashok': {'Delux': {'rooms': 4}, 'Standard': {'rooms': 4}},\n",
       " 'Hotel Neemrana': {'Delux': {'rooms': 10}, 'Standard': {'rooms': 11}}}"
      ]
     },
     "execution_count": 13,
     "metadata": {},
     "output_type": "execute_result"
    }
   ],
   "source": [
    "class Hotel:\n",
    "    def __init__(self):\n",
    "        self.location= {\n",
    "            \"Delhi\": [\"Hotel Taj\", \"Hotel Ashok\"],\n",
    "            \"Rajasthan\": [\"Hotel Neemrana\"]\n",
    "         }\n",
    "        \n",
    "        self.__hotel_rooms={\n",
    "            \"Hotel Taj\": { \"Delux\" : { \"rooms\": 5} ,\"Standard\" : { \"rooms\": 4}},\n",
    "            \"Hotel Ashok\": { \"Delux\" : { \"rooms\": 4} ,\"Standard\" : {  \"rooms\": 5}},\n",
    "            \"Hotel Neemrana\": { \"Delux\" : {  \"rooms\": 10} ,\"Standard\" : { \"rooms\": 12}}\n",
    "        }\n",
    "\n",
    "        self.__hotel_price={\n",
    "            \"Hotel Taj\": { \"Delux\" : { \"price\" :2100 } ,\"Standard\" : { \"price\" :3500 }},\n",
    "            \"Hotel Ashok\": { \"Delux\" : { \"price\" :2500 } ,\"Standard\" : { \"price\" :3200 }},\n",
    "            \"Hotel Neemrana\": { \"Delux\" : { \"price\" :1800 } ,\"Standard\" : { \"price\" :6500 }}\n",
    "        }\n",
    "        \n",
    "    def user_input(self):\n",
    "        from datetime import datetime\n",
    "        self.place= input(\"Please enter place of stay you are looking for : \")\n",
    "        if self.place in self.location:\n",
    "                print(f\" available hotels are: {self.location}\")\n",
    "        else: \n",
    "            print (\"invalid location. Please try again. \")\n",
    "        self.selected_hotel= input(\"Enter the hotel shortlisted for stay.\")\n",
    "        self.check_indate= input(\" Please enter check-in Date in YYYY-mm-dd: \")\n",
    "        self.check_outdate= input(\"Please enter check-out Date in YYYY-mm-dd: \")\n",
    "        self.check_in_date=datetime.strptime(self.check_indate, \"%Y-%m-%d\").date()\n",
    "        self.check_out_date=datetime.strptime(self.check_outdate, \"%Y-%m-%d\").date()\n",
    "        self.num_adults= input(\"Please enter number of adults to be booked: \")\n",
    "        return self.selected_hotel, self.check_in_date, self.check_out_date\n",
    "    \n",
    "    def booking(self):\n",
    "        self.bill=0\n",
    "        self.amount=0\n",
    "        if self.selected_hotel in self.__hotel_price:\n",
    "            self.room_type=input(\"Please enter the type of room. ie Delux or Standard\")\n",
    "            self.days= (self.check_out_date - self.check_in_date).days\n",
    "            self.room_bill = self.__hotel_price[self.selected_hotel][self.room_type][\"price\"]\n",
    "\n",
    "            self.bill= self.room_bill* self.days + self.amount\n",
    "\n",
    "            print(f\" The booking is selected for {self.days} days from {self.check_in_date} to {self.check_out_date}. Selected Hotel is {self.selected_hotel} and your total bill is {self.bill}.\")\n",
    "            self.response=input(\"Type 'y' to continue.\")\n",
    "\n",
    "            if self.response.lower()==\"y\":\n",
    "                import numpy as np\n",
    "                random_var= np.random.randint(10001,99999, 1)[0]\n",
    "                self.booking_id= \"RB025\" + str(random_var)\n",
    "\n",
    "                print(f\"Your booking is confirmed. The booking reference is {self.booking_id}\")\n",
    "                \n",
    "        else:\n",
    "            print(\"Try again!\")\n",
    "\n",
    "        return self.bill\n",
    "    \n",
    "            \n",
    "    def updated_rooms(self):\n",
    "\n",
    "        self.updated_hotel_rooms={\n",
    "                \"Hotel Taj\": { \"Delux\" : { \"rooms\": 5} ,\"Standard\" : { \"rooms\": 4}},\n",
    "                \"Hotel Ashok\": { \"Delux\" : { \"rooms\": 4} ,\"Standard\" : {  \"rooms\": 5}},\n",
    "                \"Hotel Neemrana\": { \"Delux\" : {  \"rooms\": 10} ,\"Standard\" : { \"rooms\": 12}}\n",
    "            }\n",
    "        if self.booking_id!=0:\n",
    "            for self.selected_hotel in self.updated_hotel_rooms:\n",
    "                if self.updated_hotel_rooms[self.selected_hotel][self.room_type][\"rooms\"] >0: \n",
    "                    self.updated_hotel_rooms[self.selected_hotel][self.room_type][\"rooms\"]-=1\n",
    "                else: \n",
    "                    print(\"Sorry, no more rooms available.\")\n",
    "\n",
    "        return self.updated_hotel_rooms\n",
    "\n",
    "hotel=Hotel()\n",
    "hotel.user_input()\n",
    "hotel.booking()\n",
    "hotel.updated_rooms()\n",
    "\n",
    "\n"
   ]
  }
 ],
 "metadata": {
  "kernelspec": {
   "display_name": "env",
   "language": "python",
   "name": "python3"
  },
  "language_info": {
   "codemirror_mode": {
    "name": "ipython",
    "version": 3
   },
   "file_extension": ".py",
   "mimetype": "text/x-python",
   "name": "python",
   "nbconvert_exporter": "python",
   "pygments_lexer": "ipython3",
   "version": "3.9.2rc1"
  }
 },
 "nbformat": 4,
 "nbformat_minor": 2
}
