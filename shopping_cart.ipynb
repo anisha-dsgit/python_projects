{
 "cells": [
  {
   "cell_type": "code",
   "execution_count": 13,
   "metadata": {},
   "outputs": [
    {
     "name": "stdout",
     "output_type": "stream",
     "text": [
      "Hi, What do you wish to buy today? Browse through the store below. \n",
      "{'Bread': 50, 'Butter': 270, 'Paneer': 80, 'Milk': 70, 'Dahi': 55, 'Jam': 180}\n",
      "['Dahi']\n",
      " rate of Dahi is 55\n",
      "your total bill is:  61.875\n"
     ]
    },
    {
     "data": {
      "text/plain": [
       "61.875"
      ]
     },
     "execution_count": 13,
     "metadata": {},
     "output_type": "execute_result"
    }
   ],
   "source": [
    "class Cart:\n",
    "    def __init__(self):\n",
    "        self.store={\n",
    "            \"Bread\" : 50,\n",
    "            \"Butter\": 270,\n",
    "            \"Paneer\": 80,\n",
    "            \"Milk\": 70,\n",
    "            \"Dahi\": 55,\n",
    "            \"Jam\": 180 \n",
    "            }\n",
    "        self.items_list=[]\n",
    "    \n",
    "    def user_input(self):\n",
    "        print(\"Hi, What do you wish to buy today? Browse through the store below. \")\n",
    "        print(self.store)\n",
    "        while True:\n",
    "            item=input(\"Enter Product name (or type end to finish): \")\n",
    "        \n",
    "            if item.lower()==\"end\":\n",
    "                print( self.items_list)\n",
    "                break\n",
    "            if item not in self.store:\n",
    "                print(f'{item} not in store. Try again')\n",
    "                continue            \n",
    "            else: \n",
    "                self.items_list.append(item)\n",
    "        \n",
    "        return self.items_list\n",
    "\n",
    "\n",
    "    def bill_sum(self):\n",
    "        self.bill =0\n",
    "        for i in self.items_list:\n",
    "            if i in self.store:\n",
    "                self.bill= self.bill + self.store[i]\n",
    "                print(f' rate of {i} is {self.store[i]}')\n",
    "            else: \n",
    "                print(f\" {i} not available.\")\n",
    "        return self.bill\n",
    "    \n",
    "    def total_bill(self):\n",
    "        tax=0.125\n",
    "        total=self.bill+ tax*self.bill\n",
    "        \n",
    "        print (\"your total bill is: \", total)\n",
    "        return total\n",
    "\n",
    "\n",
    "cart=Cart()\n",
    "cart.user_input()\n",
    "cart.bill_sum()\n",
    "cart.total_bill()\n",
    "\n",
    "\n",
    "\n"
   ]
  }
 ],
 "metadata": {
  "kernelspec": {
   "display_name": "env",
   "language": "python",
   "name": "python3"
  },
  "language_info": {
   "codemirror_mode": {
    "name": "ipython",
    "version": 3
   },
   "file_extension": ".py",
   "mimetype": "text/x-python",
   "name": "python",
   "nbconvert_exporter": "python",
   "pygments_lexer": "ipython3",
   "version": "3.9.2rc1"
  }
 },
 "nbformat": 4,
 "nbformat_minor": 2
}
