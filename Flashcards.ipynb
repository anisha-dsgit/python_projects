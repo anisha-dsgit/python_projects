{
 "cells": [
  {
   "cell_type": "code",
   "execution_count": 5,
   "metadata": {},
   "outputs": [],
   "source": [
    "# Flashcards are card which is a card having a question on one side and answer/meaning on another side "
   ]
  },
  {
   "cell_type": "code",
   "execution_count": 4,
   "metadata": {},
   "outputs": [
    {
     "name": "stdout",
     "output_type": "stream",
     "text": [
      "the word is: live and meaning is: to coexit \n",
      "the word is: hedonism and meaning is: one who seeks pleasure in everything \n",
      "the word is: ramble  and meaning is: to talk continuosly wihtout purpose \n",
      "the word is: saturnine and meaning is: feeling lazy, low \n"
     ]
    }
   ],
   "source": [
    "class Flashcard:\n",
    "    def __init__(self, word, answer):\n",
    "        self.word=word\n",
    "        self.answer=answer\n",
    "\n",
    "    def __str__(self):\n",
    "        return f\"the word is: {self.word} and meaning is: {self.answer} \"\n",
    "    \n",
    "\n",
    "Flash=[]\n",
    "\n",
    "while True:\n",
    "    word=input(\"enter any word: \")\n",
    "    answer=input(\"enter the meaning: \")\n",
    "\n",
    "    Flash.append(Flashcard(word,answer))\n",
    "\n",
    "    option=int(input(\"enter 1 to exit the game\"))\n",
    "\n",
    "    if option==1:\n",
    "        break\n",
    "\n",
    "for i in Flash:\n",
    "    print(i)"
   ]
  },
  {
   "cell_type": "code",
   "execution_count": null,
   "metadata": {},
   "outputs": [],
   "source": []
  }
 ],
 "metadata": {
  "kernelspec": {
   "display_name": "Python 3",
   "language": "python",
   "name": "python3"
  },
  "language_info": {
   "codemirror_mode": {
    "name": "ipython",
    "version": 3
   },
   "file_extension": ".py",
   "mimetype": "text/x-python",
   "name": "python",
   "nbconvert_exporter": "python",
   "pygments_lexer": "ipython3",
   "version": "3.10.4"
  },
  "orig_nbformat": 4
 },
 "nbformat": 4,
 "nbformat_minor": 2
}
